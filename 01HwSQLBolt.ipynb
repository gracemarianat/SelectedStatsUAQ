{
 "cells": [
  {
   "cell_type": "markdown",
   "id": "42f22739",
   "metadata": {},
   "source": [
    "# <span style='color:red' >SQLBolt Homework</span>\n",
    "### <span style='color:pink' >SQL Review: Simple SELECT Queries</span> "
   ]
  },
  {
   "cell_type": "markdown",
   "id": "d2213864",
   "metadata": {},
   "source": [
    "#### 1.\tList all the Canadian cities and their populations:"
   ]
  },
  {
   "cell_type": "markdown",
   "id": "8eef7229",
   "metadata": {},
   "source": [
    "`SELECT` city, population `FROM` north_american_cities\n",
    "\n",
    "`WHERE` country `LIKE` \"Canada\";"
   ]
  },
  {
   "cell_type": "markdown",
   "id": "c2a62c97",
   "metadata": {},
   "source": [
    "#### 2. Order all the cities in the United States by their latitude from north to south:"
   ]
  },
  {
   "cell_type": "markdown",
   "id": "1d58e8bd",
   "metadata": {},
   "source": [
    "`SELECT` city, latitude `FROM` north_american_cities\n",
    "\n",
    "`WHERE` country `LIKE` \"United States\"\n",
    "\n",
    "`ORDER BY` latitude `DESC`;"
   ]
  },
  {
   "cell_type": "markdown",
   "id": "619fbd4d",
   "metadata": {},
   "source": [
    "#### 3. List all the cities west of Chicago, ordered from west to east"
   ]
  },
  {
   "cell_type": "markdown",
   "id": "9b254fc4",
   "metadata": {},
   "source": [
    "`SELECT` city `FROM` north_american_cities\n",
    "\n",
    "`WHERE` longitude < -87.629798\n",
    "\n",
    "`ORDER BY` longitude `DESC`;"
   ]
  },
  {
   "cell_type": "markdown",
   "id": "ed769889",
   "metadata": {},
   "source": [
    "#### 4. List the two largest cities in Mexico (by population)"
   ]
  },
  {
   "cell_type": "markdown",
   "id": "a47a6d76",
   "metadata": {},
   "source": [
    "`SELECT` city, latitude `FROM` north_american_cities\n",
    "\n",
    "`WHERE` country `LIKE` \"Mexico\"\n",
    "\n",
    "`ORDER BY` population `DESC`;"
   ]
  },
  {
   "cell_type": "markdown",
   "id": "61163b0a",
   "metadata": {},
   "source": [
    "#### 5.\tList the third and fourth largest cities (by population in the United States)"
   ]
  },
  {
   "cell_type": "markdown",
   "id": "2ebaef91",
   "metadata": {},
   "source": [
    "`SELECT` city, latitude `FROM` north_american_cities\n",
    "\n",
    "`WHERE` country `LIKE` \"United States\"\n",
    "\n",
    "`ORDER BY` population `DESC`\n",
    "\n",
    "`LIMIT` 2 `OFFSET` 2;\n"
   ]
  }
 ],
 "metadata": {
  "kernelspec": {
   "display_name": "Python 3 (ipykernel)",
   "language": "python",
   "name": "python3"
  },
  "language_info": {
   "codemirror_mode": {
    "name": "ipython",
    "version": 3
   },
   "file_extension": ".py",
   "mimetype": "text/x-python",
   "name": "python",
   "nbconvert_exporter": "python",
   "pygments_lexer": "ipython3",
   "version": "3.9.13"
  }
 },
 "nbformat": 4,
 "nbformat_minor": 5
}
