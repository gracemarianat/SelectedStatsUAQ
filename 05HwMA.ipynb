{
 "cells": [
  {
   "cell_type": "markdown",
   "id": "bde6c679",
   "metadata": {},
   "source": [
    "# Homework 05 - Moving Average Function"
   ]
  },
  {
   "cell_type": "markdown",
   "id": "748dec93",
   "metadata": {},
   "source": [
    "### Instructions: \n",
    "  → Create a Moving Average Function.\n",
    "  \n",
    "  → Don't use `rolling` method.\n",
    "  \n",
    "  → Apply to the *AirPassengers.csv* table.\n",
    " "
   ]
  },
  {
   "cell_type": "markdown",
   "id": "608d0d3e",
   "metadata": {},
   "source": [
    "## Previous steps\n",
    "\n",
    "### Prepare Data"
   ]
  },
  {
   "cell_type": "code",
   "execution_count": 1,
   "id": "393f0a83",
   "metadata": {},
   "outputs": [],
   "source": [
    "import os\n",
    "import pandas as pd\n",
    "import numpy as np\n",
    "import matplotlib.pyplot as plt\n",
    "from statsmodels.tsa.seasonal import seasonal_decompose"
   ]
  },
  {
   "cell_type": "code",
   "execution_count": 2,
   "id": "7060aed8",
   "metadata": {},
   "outputs": [],
   "source": [
    "read_dir = r'C:\\Users\\grace\\Documents\\TemasSelectosAdicionales'\n",
    "file_name = 'AirPassengers.csv'\n",
    "read_path = os.path.join(read_dir, file_name)"
   ]
  },
  {
   "cell_type": "markdown",
   "id": "37126aaf",
   "metadata": {},
   "source": [
    "### Read File"
   ]
  },
  {
   "cell_type": "code",
   "execution_count": 3,
   "id": "98f9fa17",
   "metadata": {},
   "outputs": [
    {
     "data": {
      "text/html": [
       "<div>\n",
       "<style scoped>\n",
       "    .dataframe tbody tr th:only-of-type {\n",
       "        vertical-align: middle;\n",
       "    }\n",
       "\n",
       "    .dataframe tbody tr th {\n",
       "        vertical-align: top;\n",
       "    }\n",
       "\n",
       "    .dataframe thead th {\n",
       "        text-align: right;\n",
       "    }\n",
       "</style>\n",
       "<table border=\"1\" class=\"dataframe\">\n",
       "  <thead>\n",
       "    <tr style=\"text-align: right;\">\n",
       "      <th></th>\n",
       "      <th>Month</th>\n",
       "      <th>#Passengers</th>\n",
       "    </tr>\n",
       "  </thead>\n",
       "  <tbody>\n",
       "    <tr>\n",
       "      <th>0</th>\n",
       "      <td>1949-01</td>\n",
       "      <td>112</td>\n",
       "    </tr>\n",
       "    <tr>\n",
       "      <th>1</th>\n",
       "      <td>1949-02</td>\n",
       "      <td>118</td>\n",
       "    </tr>\n",
       "    <tr>\n",
       "      <th>2</th>\n",
       "      <td>1949-03</td>\n",
       "      <td>132</td>\n",
       "    </tr>\n",
       "    <tr>\n",
       "      <th>3</th>\n",
       "      <td>1949-04</td>\n",
       "      <td>129</td>\n",
       "    </tr>\n",
       "    <tr>\n",
       "      <th>4</th>\n",
       "      <td>1949-05</td>\n",
       "      <td>121</td>\n",
       "    </tr>\n",
       "  </tbody>\n",
       "</table>\n",
       "</div>"
      ],
      "text/plain": [
       "     Month  #Passengers\n",
       "0  1949-01          112\n",
       "1  1949-02          118\n",
       "2  1949-03          132\n",
       "3  1949-04          129\n",
       "4  1949-05          121"
      ]
     },
     "execution_count": 3,
     "metadata": {},
     "output_type": "execute_result"
    }
   ],
   "source": [
    "data = pd.read_csv(read_path)\n",
    "data.head()"
   ]
  },
  {
   "cell_type": "markdown",
   "id": "3ad58073",
   "metadata": {},
   "source": [
    "### Rename Fields"
   ]
  },
  {
   "cell_type": "code",
   "execution_count": 4,
   "id": "f4267bb5",
   "metadata": {},
   "outputs": [
    {
     "data": {
      "text/html": [
       "<div>\n",
       "<style scoped>\n",
       "    .dataframe tbody tr th:only-of-type {\n",
       "        vertical-align: middle;\n",
       "    }\n",
       "\n",
       "    .dataframe tbody tr th {\n",
       "        vertical-align: top;\n",
       "    }\n",
       "\n",
       "    .dataframe thead th {\n",
       "        text-align: right;\n",
       "    }\n",
       "</style>\n",
       "<table border=\"1\" class=\"dataframe\">\n",
       "  <thead>\n",
       "    <tr style=\"text-align: right;\">\n",
       "      <th></th>\n",
       "      <th>n_passengers</th>\n",
       "    </tr>\n",
       "    <tr>\n",
       "      <th>month</th>\n",
       "      <th></th>\n",
       "    </tr>\n",
       "  </thead>\n",
       "  <tbody>\n",
       "    <tr>\n",
       "      <th>1949-01-01</th>\n",
       "      <td>112</td>\n",
       "    </tr>\n",
       "    <tr>\n",
       "      <th>1949-02-01</th>\n",
       "      <td>118</td>\n",
       "    </tr>\n",
       "    <tr>\n",
       "      <th>1949-03-01</th>\n",
       "      <td>132</td>\n",
       "    </tr>\n",
       "    <tr>\n",
       "      <th>1949-04-01</th>\n",
       "      <td>129</td>\n",
       "    </tr>\n",
       "    <tr>\n",
       "      <th>1949-05-01</th>\n",
       "      <td>121</td>\n",
       "    </tr>\n",
       "  </tbody>\n",
       "</table>\n",
       "</div>"
      ],
      "text/plain": [
       "            n_passengers\n",
       "month                   \n",
       "1949-01-01           112\n",
       "1949-02-01           118\n",
       "1949-03-01           132\n",
       "1949-04-01           129\n",
       "1949-05-01           121"
      ]
     },
     "execution_count": 4,
     "metadata": {},
     "output_type": "execute_result"
    }
   ],
   "source": [
    "data.columns = ['month','n_passengers']\n",
    "data = data.set_index('month')\n",
    "data.index = pd.to_datetime(data.index)\n",
    "data.head()"
   ]
  },
  {
   "cell_type": "markdown",
   "id": "d82e14cf",
   "metadata": {},
   "source": [
    "## Moving Average Function"
   ]
  },
  {
   "cell_type": "code",
   "execution_count": 5,
   "id": "177c104d",
   "metadata": {},
   "outputs": [
    {
     "name": "stdout",
     "output_type": "stream",
     "text": [
      "Introduce the window length: 3\n",
      "            n_passengers  moving_avg_3\n",
      "month                                 \n",
      "1949-01-01           112           NaN\n",
      "1949-02-01           118           NaN\n",
      "1949-03-01           132           NaN\n",
      "1949-04-01           129    120.666667\n",
      "1949-05-01           121    126.333333\n",
      "...                  ...           ...\n",
      "1960-08-01           606    543.000000\n",
      "1960-09-01           508    587.666667\n",
      "1960-10-01           461    578.666667\n",
      "1960-11-01           390    525.000000\n",
      "1960-12-01           432    453.000000\n",
      "\n",
      "[144 rows x 2 columns]\n"
     ]
    }
   ],
   "source": [
    "w = int(input(\"Introduce the window length: \"))\n",
    "\n",
    "moving_avg = [np.nan] * w\n",
    "\n",
    "for i in range(w, len(data)):\n",
    "    wndw = data.iloc[i-w:i, 0]\n",
    "    wndw_avg = wndw.mean()\n",
    "    moving_avg.append(wndw_avg)\n",
    "\n",
    "data[f'moving_avg_{w}'] = moving_avg\n",
    "\n",
    "print(data)"
   ]
  }
 ],
 "metadata": {
  "kernelspec": {
   "display_name": "Python 3 (ipykernel)",
   "language": "python",
   "name": "python3"
  },
  "language_info": {
   "codemirror_mode": {
    "name": "ipython",
    "version": 3
   },
   "file_extension": ".py",
   "mimetype": "text/x-python",
   "name": "python",
   "nbconvert_exporter": "python",
   "pygments_lexer": "ipython3",
   "version": "3.9.13"
  }
 },
 "nbformat": 4,
 "nbformat_minor": 5
}
